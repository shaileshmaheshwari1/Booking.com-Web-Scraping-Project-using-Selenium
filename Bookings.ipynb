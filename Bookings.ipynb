{
 "cells": [
  {
   "cell_type": "code",
   "execution_count": 1,
   "id": "52173f1c",
   "metadata": {},
   "outputs": [],
   "source": [
    "import pandas as pd\n",
    "import numpy as np\n",
    "import selenium"
   ]
  },
  {
   "cell_type": "code",
   "execution_count": 2,
   "id": "6d1eec2b",
   "metadata": {},
   "outputs": [],
   "source": [
    "from selenium import webdriver"
   ]
  },
  {
   "cell_type": "code",
   "execution_count": 3,
   "id": "cda0e3c5",
   "metadata": {},
   "outputs": [],
   "source": [
    "from bs4 import BeautifulSoup"
   ]
  },
  {
   "cell_type": "code",
   "execution_count": 4,
   "id": "f15e74fc",
   "metadata": {},
   "outputs": [],
   "source": [
    "from selenium.webdriver.chrome.service import Service"
   ]
  },
  {
   "cell_type": "code",
   "execution_count": 5,
   "id": "41ad83d4",
   "metadata": {},
   "outputs": [],
   "source": [
    "ser = Service('selenium')"
   ]
  },
  {
   "cell_type": "code",
   "execution_count": 6,
   "id": "dead2ec4",
   "metadata": {},
   "outputs": [
    {
     "name": "stderr",
     "output_type": "stream",
     "text": [
      "Incompatible release of chromedriver (version 113.0.5672.24) detected in PATH: C:\\Users\\Sonu\\chromedriver.exe\n"
     ]
    }
   ],
   "source": [
    "driver = webdriver.Chrome(service=ser)"
   ]
  },
  {
   "cell_type": "code",
   "execution_count": 7,
   "id": "dc4d132b",
   "metadata": {},
   "outputs": [],
   "source": [
    "driver.get('http://google.com')"
   ]
  },
  {
   "cell_type": "code",
   "execution_count": 8,
   "id": "b9c5ce90",
   "metadata": {},
   "outputs": [],
   "source": [
    "driver.get('https://www.booking.com/searchresults.en-gb.html?aid=339464&label=msn-0rUxLUl4J%2Ajw7D9w0Q4gUQ-80333161589888%3Atikwd-16732786081%3Aloc-90%3Aneo%3Amte%3Alp90%3Adec%3Aqsnew%20york&sid=fcc74f920e7edfd5ff3bde3c8179730f&city=20088325&')"
   ]
  },
  {
   "cell_type": "code",
   "execution_count": 9,
   "id": "95d4babd",
   "metadata": {},
   "outputs": [],
   "source": [
    "content = driver.page_source"
   ]
  },
  {
   "cell_type": "code",
   "execution_count": 10,
   "id": "65ec9cd2",
   "metadata": {},
   "outputs": [],
   "source": [
    "data = BeautifulSoup(content,'lxml')"
   ]
  },
  {
   "cell_type": "code",
   "execution_count": 11,
   "id": "7a8cef24",
   "metadata": {},
   "outputs": [],
   "source": [
    "Hotel_Name = [i.text for i in data.find_all('div',class_=\"fcab3ed991 a23c043802\")]"
   ]
  },
  {
   "cell_type": "code",
   "execution_count": 12,
   "id": "0778afa1",
   "metadata": {},
   "outputs": [],
   "source": [
    "Review = [i.text for i in data.find_all('div',class_=\"b5cd09854e f0d4d6a2f5 e46e88563a\")]"
   ]
  },
  {
   "cell_type": "code",
   "execution_count": 13,
   "id": "2b1331de",
   "metadata": {},
   "outputs": [],
   "source": [
    "Total_Review = [i.text for i in data.find_all('div',class_=\"d8eab2cf7f c90c0a70d3 db63693c62\")]"
   ]
  },
  {
   "cell_type": "code",
   "execution_count": 14,
   "id": "2eb06eb8",
   "metadata": {},
   "outputs": [],
   "source": [
    "Rating = [i.text for i in data.find_all('div',class_=\"b5cd09854e d10a6220b4\")]"
   ]
  },
  {
   "cell_type": "code",
   "execution_count": 17,
   "id": "80609f7f",
   "metadata": {},
   "outputs": [
    {
     "data": {
      "text/plain": [
       "['Murray Hill, New York',\n",
       " 'Murray Hill, New York',\n",
       " 'Manhattan, New York',\n",
       " 'Wall Street - Financial District, New York',\n",
       " \"Hell's Kitchen, New York\",\n",
       " 'Upper West Side, New York',\n",
       " 'Manhattan, New York',\n",
       " \"Hell's Kitchen, New York\",\n",
       " \"Hell's Kitchen, New York\",\n",
       " 'Manhattan, New York',\n",
       " 'Murray Hill, New York',\n",
       " 'Manhattan, New York',\n",
       " 'Wall Street - Financial District, New York',\n",
       " \"Hell's Kitchen, New York\",\n",
       " 'Manhattan, New York',\n",
       " 'Manhattan, New York',\n",
       " 'Manhattan, New York',\n",
       " \"Hell's Kitchen, New York\",\n",
       " 'Manhattan, New York',\n",
       " 'Manhattan, New York',\n",
       " 'Wall Street - Financial District, New York',\n",
       " 'Wall Street - Financial District, New York',\n",
       " 'Chelsea, New York',\n",
       " 'Chelsea, New York',\n",
       " \"Hell's Kitchen, New York\"]"
      ]
     },
     "execution_count": 17,
     "metadata": {},
     "output_type": "execute_result"
    }
   ],
   "source": [
    "Location = [i.text for i in data.find_all('span',class_=\"f4bd0794db b4273d69aa\")[::2]]\n",
    "Location"
   ]
  },
  {
   "cell_type": "code",
   "execution_count": 17,
   "id": "91aa17de",
   "metadata": {},
   "outputs": [],
   "source": [
    "Location_Rating = [i.text for i in data.find_all('span',class_=\"f9afbb0024\")]"
   ]
  },
  {
   "cell_type": "code",
   "execution_count": 18,
   "id": "29520ed2",
   "metadata": {},
   "outputs": [
    {
     "data": {
      "text/plain": [
       "25"
      ]
     },
     "execution_count": 18,
     "metadata": {},
     "output_type": "execute_result"
    }
   ],
   "source": [
    "len(Hotel_Name)"
   ]
  },
  {
   "cell_type": "code",
   "execution_count": 19,
   "id": "b7f4d45b",
   "metadata": {},
   "outputs": [
    {
     "data": {
      "text/plain": [
       "24"
      ]
     },
     "execution_count": 19,
     "metadata": {},
     "output_type": "execute_result"
    }
   ],
   "source": [
    "len(Review)"
   ]
  },
  {
   "cell_type": "code",
   "execution_count": 20,
   "id": "398335fb",
   "metadata": {},
   "outputs": [
    {
     "data": {
      "text/plain": [
       "24"
      ]
     },
     "execution_count": 20,
     "metadata": {},
     "output_type": "execute_result"
    }
   ],
   "source": [
    "len(Total_Review)"
   ]
  },
  {
   "cell_type": "code",
   "execution_count": 21,
   "id": "7fbd3306",
   "metadata": {},
   "outputs": [
    {
     "data": {
      "text/plain": [
       "24"
      ]
     },
     "execution_count": 21,
     "metadata": {},
     "output_type": "execute_result"
    }
   ],
   "source": [
    "len(Rating)"
   ]
  },
  {
   "cell_type": "code",
   "execution_count": 18,
   "id": "a58b209e",
   "metadata": {},
   "outputs": [
    {
     "data": {
      "text/plain": [
       "25"
      ]
     },
     "execution_count": 18,
     "metadata": {},
     "output_type": "execute_result"
    }
   ],
   "source": [
    "len(Location)"
   ]
  },
  {
   "cell_type": "code",
   "execution_count": 23,
   "id": "9bd3210c",
   "metadata": {},
   "outputs": [
    {
     "data": {
      "text/plain": [
       "11"
      ]
     },
     "execution_count": 23,
     "metadata": {},
     "output_type": "execute_result"
    }
   ],
   "source": [
    "len(Location_Rating) "
   ]
  },
  {
   "cell_type": "code",
   "execution_count": null,
   "id": "991c85ee",
   "metadata": {},
   "outputs": [],
   "source": []
  },
  {
   "cell_type": "code",
   "execution_count": 24,
   "id": "19d500ce",
   "metadata": {},
   "outputs": [],
   "source": [
    "driver.get('https://www.booking.com/searchresults.en-gb.html?aid=339464&label=msn-0rUxLUl4J%2Ajw7D9w0Q4gUQ-80333161589888%3Atikwd-16732786081%3Aloc-90%3Aneo%3Amte%3Alp90%3Adec%3Aqsnew%20york&sid=fcc74f920e7edfd5ff3bde3c8179730f&city=20088325&')\n",
    "content1 = driver.page_source\n",
    "data1 = BeautifulSoup(content1,'lxml')\n",
    "\n",
    "for i in data1.find_all('div',class_=\"fcab3ed991 a23c043802\"):\n",
    "    Hotel_Name.append(i.text)\n",
    "for i in data1.find_all('div',class_=\"b5cd09854e f0d4d6a2f5 e46e88563a\"):\n",
    "    Review.append(i.text)\n",
    "for i in data1.find_all('div',class_=\"d8eab2cf7f c90c0a70d3 db63693c62\"):\n",
    "    Total_Review.append(i.text)\n",
    "for i in data1.find_all('div',class_=\"b5cd09854e d10a6220b4\"):\n",
    "    Rating.append(i.text)\n",
    "for i in data1.find_all('span',class_=\"f4bd0794db b4273d69aa\"):\n",
    "    Location.append(i.text)\n",
    "for i in data1.find_all('span',class_=\"f9afbb0024\"):\n",
    "    Location_Rating.append(i.text)\n",
    "    \n",
    "stopwords = ['Show on map']\n",
    "for word in Location: \n",
    "    if word in stopwords:\n",
    "        Location.remove(word)"
   ]
  },
  {
   "cell_type": "code",
   "execution_count": 25,
   "id": "391bee2e",
   "metadata": {},
   "outputs": [],
   "source": [
    "driver.get('https://www.booking.com/searchresults.en-gb.html?label=msn-02xLUl4J*jw7D9w0Q4gUQ-80333161589888%3Atikwd-16732786081%3Aloc-90%3Aneo%3Amte%3Alp90%3Adec%3Aqsnew+york&sid=fcc74f920e7edfd5ff3bde3c8179730f&aid=339464&city=20088325&offset=50')\n",
    "content2 = driver.page_source\n",
    "data2 = BeautifulSoup(content2,'lxml')\n",
    "\n",
    "for i in data2.find_all('div',class_=\"fcab3ed991 a23c043802\"):\n",
    "    Hotel_Name.append(i.text)\n",
    "for i in data2.find_all('div',class_=\"b5cd09854e f0d4d6a2f5 e46e88563a\"):\n",
    "    Review.append(i.text)\n",
    "for i in data2.find_all('div',class_=\"d8eab2cf7f c90c0a70d3 db63693c62\"):\n",
    "    Total_Review.append(i.text)\n",
    "for i in data2.find_all('div',class_=\"b5cd09854e d10a6220b4\"):\n",
    "    Rating.append(i.text)\n",
    "for i in data2.find_all('span',class_=\"f4bd0794db b4273d69aa\"):\n",
    "    Location.append(i.text)\n",
    "for i in data2.find_all('span',class_=\"f9afbb0024\"):\n",
    "    Location_Rating.append(i.text)\n",
    "    \n",
    "stopwords = ['Show on map']\n",
    "for word in Location: \n",
    "    if word in stopwords:\n",
    "        Location.remove(word)"
   ]
  },
  {
   "cell_type": "code",
   "execution_count": 26,
   "id": "7743ebd1",
   "metadata": {},
   "outputs": [],
   "source": [
    "driver.get('https://www.booking.com/searchresults.en-gb.html?label=msn-0rUxLUl4J*jw7D9w0Q4gUQ-80333161589888%3Atikwd-16732786081%3Aloc-90%3Aneo%3Amte%3Alp90%3Adec%3Aqsnew+york&sid=fcc74f920e7edfd5ff3bde3c8179730f&aid=339464&city=20088325&offset=75')\n",
    "content3 = driver.page_source\n",
    "data3 = BeautifulSoup(content3,'lxml')\n",
    "\n",
    "for i in data3.find_all('div',class_=\"fcab3ed991 a23c043802\"):\n",
    "    Hotel_Name.append(i.text)\n",
    "for i in data3.find_all('div',class_=\"b5cd09854e f0d4d6a2f5 e46e88563a\"):\n",
    "    Review.append(i.text)\n",
    "for i in data3.find_all('div',class_=\"d8eab2cf7f c90c0a70d3 db63693c62\"):\n",
    "    Total_Review.append(i.text)\n",
    "for i in data3.find_all('div',class_=\"b5cd09854e d10a6220b4\"):\n",
    "    Rating.append(i.text)\n",
    "for i in data3.find_all('span',class_=\"f4bd0794db b4273d69aa\"):\n",
    "    Location.append(i.text)\n",
    "for i in data3.find_all('span',class_=\"f9afbb0024\"):\n",
    "    Location_Rating.append(i.text)\n",
    "    \n",
    "stopwords = ['Show on map']\n",
    "for word in Location: \n",
    "    if word in stopwords:\n",
    "        Location.remove(word)"
   ]
  },
  {
   "cell_type": "code",
   "execution_count": 34,
   "id": "f27ea34b",
   "metadata": {},
   "outputs": [],
   "source": [
    "driver.get('https://www.booking.com/searchresults.en-gb.html?label=msn-0rUxLUl4J*jw7D9w0Q4gUQ-80333161589888%3Atikwd-16732786081%3Aloc-90%3Aneo%3Amte%3Alp90%3Adec%3Aqsnew+york&sid=fcc74f920e7edfd5ff3bde3c8179730f&aid=339464&city=20088325&offset=100')\n",
    "content3 = driver.page_source\n",
    "data4 = BeautifulSoup(content3,'lxml')\n",
    "\n",
    "for i in data4.find_all('div',class_=\"fcab3ed991 a23c043802\"):\n",
    "    Hotel_Name.append(i.text)\n",
    "for i in data4.find_all('div',class_=\"b5cd09854e f0d4d6a2f5 e46e88563a\"):\n",
    "    Review.append(i.text)\n",
    "for i in data3.find_all('div',class_=\"d8eab2cf7f c90c0a70d3 db63693c62\"):\n",
    "    Total_Review.append(i.text)\n",
    "for i in data4.find_all('div',class_=\"b5cd09854e d10a6220b4\"):\n",
    "    Rating.append(i.text)\n",
    "for i in data4.find_all('span',class_=\"f4bd0794db b4273d69aa\"):\n",
    "    Location.append(i.text)\n",
    "for i in data4.find_all('span',class_=\"f9afbb0024\"):\n",
    "    Location_Rating.append(i.text)\n",
    "    \n",
    "stopwords = ['Show on map']\n",
    "for word in Location: \n",
    "    if word in stopwords:\n",
    "        Location.remove(word)"
   ]
  },
  {
   "cell_type": "code",
   "execution_count": 35,
   "id": "043acccc",
   "metadata": {},
   "outputs": [],
   "source": [
    "driver.get('https://www.booking.com/searchresults.en-gb.html?label=msn-0rUxLUl4J*jw7D9w0Q4gUQ-80333161589888%3Atikwd-16732786081%3Aloc-90%3Aneo%3Amte%3Alp90%3Adec%3Aqsnew+york&sid=fcc74f920e7edfd5ff3bde3c8179730f&aid=339464&city=20088325&offset=125')\n",
    "content3 = driver.page_source\n",
    "data5 = BeautifulSoup(content3,'lxml')\n",
    "\n",
    "for i in data5.find_all('div',class_=\"fcab3ed991 a23c043802\"):\n",
    "    Hotel_Name.append(i.text)\n",
    "for i in data5.find_all('div',class_=\"b5cd09854e f0d4d6a2f5 e46e88563a\"):\n",
    "    Review.append(i.text)\n",
    "for i in data5.find_all('div',class_=\"d8eab2cf7f c90c0a70d3 db63693c62\"):\n",
    "    Total_Review.append(i.text)\n",
    "for i in data5.find_all('div',class_=\"b5cd09854e d10a6220b4\"):\n",
    "    Rating.append(i.text)\n",
    "for i in data5.find_all('span',class_=\"f4bd0794db b4273d69aa\"):\n",
    "    Location.append(i.text)\n",
    "for i in data5.find_all('span',class_=\"f9afbb0024\"):\n",
    "    Location_Rating.append(i.text)\n",
    "    \n",
    "stopwords = ['Show on map']\n",
    "for word in Location: \n",
    "    if word in stopwords:\n",
    "        Location.remove(word)"
   ]
  },
  {
   "cell_type": "code",
   "execution_count": 103,
   "id": "fb4847d1",
   "metadata": {},
   "outputs": [],
   "source": [
    "driver.get('https://www.booking.com/searchresults.en-gb.html?label=msn-0rUxLUl4J*jw7D9w0Q4gUQ-80333161589888%3Atikwd-16732786081%3Aloc-90%3Aneo%3Amte%3Alp90%3Adec%3Aqsnew+york&sid=fcc74f920e7edfd5ff3bde3c8179730f&aid=339464&city=20088325&offset=350')\n",
    "content3 = driver.page_source\n",
    "data6 = BeautifulSoup(content3,'lxml')\n",
    "\n",
    "for i in data6.find_all('div',class_=\"fcab3ed991 a23c043802\"):\n",
    "    Hotel_Name.append(i.text)\n",
    "for i in data6.find_all('div',class_=\"b5cd09854e f0d4d6a2f5 e46e88563a\"):\n",
    "    Review.append(i.text)\n",
    "for i in data6.find_all('div',class_=\"d8eab2cf7f c90c0a70d3 db63693c62\"):\n",
    "    Total_Review.append(i.text)\n",
    "for i in data6.find_all('div',class_=\"b5cd09854e d10a6220b4\"):\n",
    "    Rating.append(i.text)\n",
    "for i in data6.find_all('span',class_=\"f4bd0794db b4273d69aa\"):\n",
    "    Location.append(i.text)\n",
    "for i in data6.find_all('span',class_=\"f9afbb0024\"):\n",
    "    Location_Rating.append(i.text)\n",
    "    \n",
    "stopwords = ['Show on map']\n",
    "for word in Location: \n",
    "    if word in stopwords:\n",
    "        Location.remove(word)"
   ]
  },
  {
   "cell_type": "code",
   "execution_count": 105,
   "id": "011457ac",
   "metadata": {},
   "outputs": [],
   "source": [
    "driver.get('https://www.booking.com/searchresults.en-gb.html?label=msn-0rUxLUl4J*jw7D9w0Q4gUQ-80333161589888%3Atikwd-16732786081%3Aloc-90%3Aneo%3Amte%3Alp90%3Adec%3Aqsnew+york&sid=fcc74f920e7edfd5ff3bde3c8179730f&aid=339464&city=20088325&offset=450')\n",
    "content3 = driver.page_source\n",
    "data6 = BeautifulSoup(content3,'lxml')\n",
    "\n",
    "for i in data6.find_all('div',class_=\"fcab3ed991 a23c043802\"):\n",
    "    Hotel_Name.append(i.text)\n",
    "for i in data6.find_all('div',class_=\"b5cd09854e f0d4d6a2f5 e46e88563a\"):\n",
    "    Review.append(i.text)\n",
    "for i in data6.find_all('div',class_=\"d8eab2cf7f c90c0a70d3 db63693c62\"):\n",
    "    Total_Review.append(i.text)\n",
    "for i in data6.find_all('div',class_=\"b5cd09854e d10a6220b4\"):\n",
    "    Rating.append(i.text)\n",
    "for i in data6.find_all('span',class_=\"f4bd0794db b4273d69aa\"):\n",
    "    Location.append(i.text)\n",
    "for i in data6.find_all('span',class_=\"f9afbb0024\"):\n",
    "    Location_Rating.append(i.text)\n",
    "    \n",
    "stopwords = ['Show on map']\n",
    "for word in Location: \n",
    "    if word in stopwords:\n",
    "        Location.remove(word)"
   ]
  },
  {
   "cell_type": "code",
   "execution_count": 113,
   "id": "fe344785",
   "metadata": {},
   "outputs": [],
   "source": [
    "driver.get('https://www.booking.com/searchresults.en-gb.html?label=msn-0rUxLUl4J*jw7D9w0Q4gUQ-80333161589888%3Atikwd-16732786081%3Aloc-90%3Aneo%3Amte%3Alp90%3Adec%3Aqsnew+york&sid=fcc74f920e7edfd5ff3bde3c8179730f&aid=339464&city=20088325&offset=700')\n",
    "content3 = driver.page_source\n",
    "data6 = BeautifulSoup(content3,'lxml')\n",
    "\n",
    "for i in data6.find_all('div',class_=\"fcab3ed991 a23c043802\"):\n",
    "    Hotel_Name.append(i.text)\n",
    "for i in data6.find_all('div',class_=\"b5cd09854e f0d4d6a2f5 e46e88563a\"):\n",
    "    Review.append(i.text)\n",
    "for i in data6.find_all('div',class_=\"d8eab2cf7f c90c0a70d3 db63693c62\"):\n",
    "    Total_Review.append(i.text)\n",
    "for i in data6.find_all('div',class_=\"b5cd09854e d10a6220b4\"):\n",
    "    Rating.append(i.text)\n",
    "for i in data6.find_all('span',class_=\"f4bd0794db b4273d69aa\"):\n",
    "    Location.append(i.text)\n",
    "for i in data6.find_all('span',class_=\"f9afbb0024\"):\n",
    "    Location_Rating.append(i.text)\n",
    "    \n",
    "stopwords = ['Show on map']\n",
    "for word in Location: \n",
    "    if word in stopwords:\n",
    "        Location.remove(word)"
   ]
  },
  {
   "cell_type": "code",
   "execution_count": 116,
   "id": "aed7d0be",
   "metadata": {},
   "outputs": [
    {
     "data": {
      "text/plain": [
       "181"
      ]
     },
     "execution_count": 116,
     "metadata": {},
     "output_type": "execute_result"
    }
   ],
   "source": [
    "525-344"
   ]
  },
  {
   "cell_type": "code",
   "execution_count": 114,
   "id": "6467f986",
   "metadata": {},
   "outputs": [
    {
     "data": {
      "text/plain": [
       "525"
      ]
     },
     "execution_count": 114,
     "metadata": {},
     "output_type": "execute_result"
    }
   ],
   "source": [
    "len(Hotel_Name)"
   ]
  },
  {
   "cell_type": "code",
   "execution_count": 115,
   "id": "62707163",
   "metadata": {},
   "outputs": [
    {
     "data": {
      "text/plain": [
       "344"
      ]
     },
     "execution_count": 115,
     "metadata": {},
     "output_type": "execute_result"
    }
   ],
   "source": [
    "len(Review)"
   ]
  },
  {
   "cell_type": "code",
   "execution_count": 117,
   "id": "57effac6",
   "metadata": {},
   "outputs": [],
   "source": [
    "for i in range(181):\n",
    "    Review.append(np.nan)"
   ]
  },
  {
   "cell_type": "code",
   "execution_count": 118,
   "id": "c831cf72",
   "metadata": {},
   "outputs": [
    {
     "data": {
      "text/plain": [
       "525"
      ]
     },
     "execution_count": 118,
     "metadata": {},
     "output_type": "execute_result"
    }
   ],
   "source": [
    "len(Review)"
   ]
  },
  {
   "cell_type": "code",
   "execution_count": 120,
   "id": "4016bb29",
   "metadata": {},
   "outputs": [],
   "source": [
    "for i in range(181):\n",
    "    Total_Review.append(np.nan)"
   ]
  },
  {
   "cell_type": "code",
   "execution_count": 121,
   "id": "60dd8c7f",
   "metadata": {},
   "outputs": [
    {
     "data": {
      "text/plain": [
       "525"
      ]
     },
     "execution_count": 121,
     "metadata": {},
     "output_type": "execute_result"
    }
   ],
   "source": [
    "len(Total_Review)"
   ]
  },
  {
   "cell_type": "code",
   "execution_count": 123,
   "id": "b77b0b52",
   "metadata": {},
   "outputs": [],
   "source": [
    "for i in range(191):\n",
    "    Rating.append(np.nan)"
   ]
  },
  {
   "cell_type": "code",
   "execution_count": 124,
   "id": "b6a696de",
   "metadata": {},
   "outputs": [
    {
     "data": {
      "text/plain": [
       "525"
      ]
     },
     "execution_count": 124,
     "metadata": {},
     "output_type": "execute_result"
    }
   ],
   "source": [
    "len(Rating)\n"
   ]
  },
  {
   "cell_type": "code",
   "execution_count": 125,
   "id": "d8e69988",
   "metadata": {},
   "outputs": [
    {
     "data": {
      "text/plain": [
       "525"
      ]
     },
     "execution_count": 125,
     "metadata": {},
     "output_type": "execute_result"
    }
   ],
   "source": [
    "len(Location)"
   ]
  },
  {
   "cell_type": "code",
   "execution_count": 89,
   "id": "ae245630",
   "metadata": {},
   "outputs": [
    {
     "data": {
      "text/plain": [
       "81"
      ]
     },
     "execution_count": 89,
     "metadata": {},
     "output_type": "execute_result"
    }
   ],
   "source": [
    "len(Location_Rating)"
   ]
  },
  {
   "cell_type": "code",
   "execution_count": 126,
   "id": "6420561f",
   "metadata": {},
   "outputs": [],
   "source": [
    "Data = pd.DataFrame({'Hotel_Name':Hotel_Name,'Review':Review,'Total_Review':Total_Review,'Rating':Rating,'Location':Location})"
   ]
  },
  {
   "cell_type": "code",
   "execution_count": 127,
   "id": "60a3caea",
   "metadata": {},
   "outputs": [],
   "source": [
    "Data.to_csv('Bookings.csv')"
   ]
  },
  {
   "cell_type": "code",
   "execution_count": 128,
   "id": "8e2a1447",
   "metadata": {},
   "outputs": [
    {
     "data": {
      "text/plain": [
       "2"
      ]
     },
     "execution_count": 128,
     "metadata": {},
     "output_type": "execute_result"
    }
   ],
   "source": [
    "Data.duplicated().sum()"
   ]
  },
  {
   "cell_type": "code",
   "execution_count": null,
   "id": "6080091d",
   "metadata": {},
   "outputs": [],
   "source": []
  }
 ],
 "metadata": {
  "kernelspec": {
   "display_name": "Python 3 (ipykernel)",
   "language": "python",
   "name": "python3"
  },
  "language_info": {
   "codemirror_mode": {
    "name": "ipython",
    "version": 3
   },
   "file_extension": ".py",
   "mimetype": "text/x-python",
   "name": "python",
   "nbconvert_exporter": "python",
   "pygments_lexer": "ipython3",
   "version": "3.9.12"
  }
 },
 "nbformat": 4,
 "nbformat_minor": 5
}
